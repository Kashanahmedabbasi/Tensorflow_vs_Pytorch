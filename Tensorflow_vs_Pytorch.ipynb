{
  "nbformat": 4,
  "nbformat_minor": 0,
  "metadata": {
    "colab": {
      "provenance": [],
      "gpuType": "T4"
    },
    "kernelspec": {
      "name": "python3",
      "display_name": "Python 3"
    },
    "language_info": {
      "name": "python"
    },
    "accelerator": "GPU",
    "widgets": {
      "application/vnd.jupyter.widget-state+json": {
        "4aef6deab60a413282fca3fc81348482": {
          "model_module": "@jupyter-widgets/controls",
          "model_name": "HBoxModel",
          "model_module_version": "1.5.0",
          "state": {
            "_dom_classes": [],
            "_model_module": "@jupyter-widgets/controls",
            "_model_module_version": "1.5.0",
            "_model_name": "HBoxModel",
            "_view_count": null,
            "_view_module": "@jupyter-widgets/controls",
            "_view_module_version": "1.5.0",
            "_view_name": "HBoxView",
            "box_style": "",
            "children": [
              "IPY_MODEL_1b089e739c6b44d285babd2de6dfd62c",
              "IPY_MODEL_5aa3819ff1c543f082f253d802c44807",
              "IPY_MODEL_a3ffd5b6ac214496b811aea66b3442e4"
            ],
            "layout": "IPY_MODEL_92f13a7f5de1461b9f6ead48a78d3d21"
          }
        },
        "1b089e739c6b44d285babd2de6dfd62c": {
          "model_module": "@jupyter-widgets/controls",
          "model_name": "HTMLModel",
          "model_module_version": "1.5.0",
          "state": {
            "_dom_classes": [],
            "_model_module": "@jupyter-widgets/controls",
            "_model_module_version": "1.5.0",
            "_model_name": "HTMLModel",
            "_view_count": null,
            "_view_module": "@jupyter-widgets/controls",
            "_view_module_version": "1.5.0",
            "_view_name": "HTMLView",
            "description": "",
            "description_tooltip": null,
            "layout": "IPY_MODEL_675bf6f7dbb047a8998bfa24862cd270",
            "placeholder": "​",
            "style": "IPY_MODEL_0f570f554f194c5b86ace5ad0d60fe15",
            "value": "Dl Completed...: 100%"
          }
        },
        "5aa3819ff1c543f082f253d802c44807": {
          "model_module": "@jupyter-widgets/controls",
          "model_name": "FloatProgressModel",
          "model_module_version": "1.5.0",
          "state": {
            "_dom_classes": [],
            "_model_module": "@jupyter-widgets/controls",
            "_model_module_version": "1.5.0",
            "_model_name": "FloatProgressModel",
            "_view_count": null,
            "_view_module": "@jupyter-widgets/controls",
            "_view_module_version": "1.5.0",
            "_view_name": "ProgressView",
            "bar_style": "success",
            "description": "",
            "description_tooltip": null,
            "layout": "IPY_MODEL_5f0910ed5dff4ac58ee4e5a20503d2c6",
            "max": 5,
            "min": 0,
            "orientation": "horizontal",
            "style": "IPY_MODEL_43267607a46c49088715154d6c82e17b",
            "value": 5
          }
        },
        "a3ffd5b6ac214496b811aea66b3442e4": {
          "model_module": "@jupyter-widgets/controls",
          "model_name": "HTMLModel",
          "model_module_version": "1.5.0",
          "state": {
            "_dom_classes": [],
            "_model_module": "@jupyter-widgets/controls",
            "_model_module_version": "1.5.0",
            "_model_name": "HTMLModel",
            "_view_count": null,
            "_view_module": "@jupyter-widgets/controls",
            "_view_module_version": "1.5.0",
            "_view_name": "HTMLView",
            "description": "",
            "description_tooltip": null,
            "layout": "IPY_MODEL_a3ee3a6cfd274e9ca6d67dcf0d688c61",
            "placeholder": "​",
            "style": "IPY_MODEL_0a4b0926481c4b319debbf170269d21c",
            "value": " 5/5 [00:04&lt;00:00,  1.17s/ file]"
          }
        },
        "92f13a7f5de1461b9f6ead48a78d3d21": {
          "model_module": "@jupyter-widgets/base",
          "model_name": "LayoutModel",
          "model_module_version": "1.2.0",
          "state": {
            "_model_module": "@jupyter-widgets/base",
            "_model_module_version": "1.2.0",
            "_model_name": "LayoutModel",
            "_view_count": null,
            "_view_module": "@jupyter-widgets/base",
            "_view_module_version": "1.2.0",
            "_view_name": "LayoutView",
            "align_content": null,
            "align_items": null,
            "align_self": null,
            "border": null,
            "bottom": null,
            "display": null,
            "flex": null,
            "flex_flow": null,
            "grid_area": null,
            "grid_auto_columns": null,
            "grid_auto_flow": null,
            "grid_auto_rows": null,
            "grid_column": null,
            "grid_gap": null,
            "grid_row": null,
            "grid_template_areas": null,
            "grid_template_columns": null,
            "grid_template_rows": null,
            "height": null,
            "justify_content": null,
            "justify_items": null,
            "left": null,
            "margin": null,
            "max_height": null,
            "max_width": null,
            "min_height": null,
            "min_width": null,
            "object_fit": null,
            "object_position": null,
            "order": null,
            "overflow": null,
            "overflow_x": null,
            "overflow_y": null,
            "padding": null,
            "right": null,
            "top": null,
            "visibility": null,
            "width": null
          }
        },
        "675bf6f7dbb047a8998bfa24862cd270": {
          "model_module": "@jupyter-widgets/base",
          "model_name": "LayoutModel",
          "model_module_version": "1.2.0",
          "state": {
            "_model_module": "@jupyter-widgets/base",
            "_model_module_version": "1.2.0",
            "_model_name": "LayoutModel",
            "_view_count": null,
            "_view_module": "@jupyter-widgets/base",
            "_view_module_version": "1.2.0",
            "_view_name": "LayoutView",
            "align_content": null,
            "align_items": null,
            "align_self": null,
            "border": null,
            "bottom": null,
            "display": null,
            "flex": null,
            "flex_flow": null,
            "grid_area": null,
            "grid_auto_columns": null,
            "grid_auto_flow": null,
            "grid_auto_rows": null,
            "grid_column": null,
            "grid_gap": null,
            "grid_row": null,
            "grid_template_areas": null,
            "grid_template_columns": null,
            "grid_template_rows": null,
            "height": null,
            "justify_content": null,
            "justify_items": null,
            "left": null,
            "margin": null,
            "max_height": null,
            "max_width": null,
            "min_height": null,
            "min_width": null,
            "object_fit": null,
            "object_position": null,
            "order": null,
            "overflow": null,
            "overflow_x": null,
            "overflow_y": null,
            "padding": null,
            "right": null,
            "top": null,
            "visibility": null,
            "width": null
          }
        },
        "0f570f554f194c5b86ace5ad0d60fe15": {
          "model_module": "@jupyter-widgets/controls",
          "model_name": "DescriptionStyleModel",
          "model_module_version": "1.5.0",
          "state": {
            "_model_module": "@jupyter-widgets/controls",
            "_model_module_version": "1.5.0",
            "_model_name": "DescriptionStyleModel",
            "_view_count": null,
            "_view_module": "@jupyter-widgets/base",
            "_view_module_version": "1.2.0",
            "_view_name": "StyleView",
            "description_width": ""
          }
        },
        "5f0910ed5dff4ac58ee4e5a20503d2c6": {
          "model_module": "@jupyter-widgets/base",
          "model_name": "LayoutModel",
          "model_module_version": "1.2.0",
          "state": {
            "_model_module": "@jupyter-widgets/base",
            "_model_module_version": "1.2.0",
            "_model_name": "LayoutModel",
            "_view_count": null,
            "_view_module": "@jupyter-widgets/base",
            "_view_module_version": "1.2.0",
            "_view_name": "LayoutView",
            "align_content": null,
            "align_items": null,
            "align_self": null,
            "border": null,
            "bottom": null,
            "display": null,
            "flex": null,
            "flex_flow": null,
            "grid_area": null,
            "grid_auto_columns": null,
            "grid_auto_flow": null,
            "grid_auto_rows": null,
            "grid_column": null,
            "grid_gap": null,
            "grid_row": null,
            "grid_template_areas": null,
            "grid_template_columns": null,
            "grid_template_rows": null,
            "height": null,
            "justify_content": null,
            "justify_items": null,
            "left": null,
            "margin": null,
            "max_height": null,
            "max_width": null,
            "min_height": null,
            "min_width": null,
            "object_fit": null,
            "object_position": null,
            "order": null,
            "overflow": null,
            "overflow_x": null,
            "overflow_y": null,
            "padding": null,
            "right": null,
            "top": null,
            "visibility": null,
            "width": null
          }
        },
        "43267607a46c49088715154d6c82e17b": {
          "model_module": "@jupyter-widgets/controls",
          "model_name": "ProgressStyleModel",
          "model_module_version": "1.5.0",
          "state": {
            "_model_module": "@jupyter-widgets/controls",
            "_model_module_version": "1.5.0",
            "_model_name": "ProgressStyleModel",
            "_view_count": null,
            "_view_module": "@jupyter-widgets/base",
            "_view_module_version": "1.2.0",
            "_view_name": "StyleView",
            "bar_color": null,
            "description_width": ""
          }
        },
        "a3ee3a6cfd274e9ca6d67dcf0d688c61": {
          "model_module": "@jupyter-widgets/base",
          "model_name": "LayoutModel",
          "model_module_version": "1.2.0",
          "state": {
            "_model_module": "@jupyter-widgets/base",
            "_model_module_version": "1.2.0",
            "_model_name": "LayoutModel",
            "_view_count": null,
            "_view_module": "@jupyter-widgets/base",
            "_view_module_version": "1.2.0",
            "_view_name": "LayoutView",
            "align_content": null,
            "align_items": null,
            "align_self": null,
            "border": null,
            "bottom": null,
            "display": null,
            "flex": null,
            "flex_flow": null,
            "grid_area": null,
            "grid_auto_columns": null,
            "grid_auto_flow": null,
            "grid_auto_rows": null,
            "grid_column": null,
            "grid_gap": null,
            "grid_row": null,
            "grid_template_areas": null,
            "grid_template_columns": null,
            "grid_template_rows": null,
            "height": null,
            "justify_content": null,
            "justify_items": null,
            "left": null,
            "margin": null,
            "max_height": null,
            "max_width": null,
            "min_height": null,
            "min_width": null,
            "object_fit": null,
            "object_position": null,
            "order": null,
            "overflow": null,
            "overflow_x": null,
            "overflow_y": null,
            "padding": null,
            "right": null,
            "top": null,
            "visibility": null,
            "width": null
          }
        },
        "0a4b0926481c4b319debbf170269d21c": {
          "model_module": "@jupyter-widgets/controls",
          "model_name": "DescriptionStyleModel",
          "model_module_version": "1.5.0",
          "state": {
            "_model_module": "@jupyter-widgets/controls",
            "_model_module_version": "1.5.0",
            "_model_name": "DescriptionStyleModel",
            "_view_count": null,
            "_view_module": "@jupyter-widgets/base",
            "_view_module_version": "1.2.0",
            "_view_name": "StyleView",
            "description_width": ""
          }
        }
      }
    }
  },
  "cells": [
    {
      "cell_type": "markdown",
      "source": [
        "# **TensorFlow Image Classifier**"
      ],
      "metadata": {
        "id": "SyLgJHh2MOvK"
      }
    },
    {
      "cell_type": "code",
      "execution_count": 1,
      "metadata": {
        "id": "EKleuRtqz7eZ"
      },
      "outputs": [],
      "source": [
        "import tensorflow as tf\n",
        "from tensorflow.keras.layers import Dense,Conv2D,Flatten\n",
        "import tensorflow_datasets as tfds\n",
        "import matplotlib.pyplot as plt\n",
        "import numpy as np"
      ]
    },
    {
      "cell_type": "code",
      "source": [
        "train = tfds.load('mnist', split='train',batch_size=64)"
      ],
      "metadata": {
        "colab": {
          "base_uri": "https://localhost:8080/",
          "height": 104,
          "referenced_widgets": [
            "4aef6deab60a413282fca3fc81348482",
            "1b089e739c6b44d285babd2de6dfd62c",
            "5aa3819ff1c543f082f253d802c44807",
            "a3ffd5b6ac214496b811aea66b3442e4",
            "92f13a7f5de1461b9f6ead48a78d3d21",
            "675bf6f7dbb047a8998bfa24862cd270",
            "0f570f554f194c5b86ace5ad0d60fe15",
            "5f0910ed5dff4ac58ee4e5a20503d2c6",
            "43267607a46c49088715154d6c82e17b",
            "a3ee3a6cfd274e9ca6d67dcf0d688c61",
            "0a4b0926481c4b319debbf170269d21c"
          ]
        },
        "id": "Do22CR_J0VOR",
        "outputId": "9741b9b9-34cd-458e-f6bb-62b0adbb57b2"
      },
      "execution_count": 2,
      "outputs": [
        {
          "output_type": "stream",
          "name": "stdout",
          "text": [
            "Downloading and preparing dataset 11.06 MiB (download: 11.06 MiB, generated: 21.00 MiB, total: 32.06 MiB) to /root/tensorflow_datasets/mnist/3.0.1...\n"
          ]
        },
        {
          "output_type": "display_data",
          "data": {
            "text/plain": [
              "Dl Completed...:   0%|          | 0/5 [00:00<?, ? file/s]"
            ],
            "application/vnd.jupyter.widget-view+json": {
              "version_major": 2,
              "version_minor": 0,
              "model_id": "4aef6deab60a413282fca3fc81348482"
            }
          },
          "metadata": {}
        },
        {
          "output_type": "stream",
          "name": "stdout",
          "text": [
            "Dataset mnist downloaded and prepared to /root/tensorflow_datasets/mnist/3.0.1. Subsequent calls will reuse this data.\n"
          ]
        }
      ]
    },
    {
      "cell_type": "code",
      "source": [
        "def preprocess_image(input):\n",
        "  image = input['image']\n",
        "  label = input['label']\n",
        "  image = tf.cast(image,tf.float32)/255.\n",
        "  return image,label\n",
        "\n",
        "train = train.map(preprocess_image)"
      ],
      "metadata": {
        "id": "9EX2WKXD0VME"
      },
      "execution_count": 3,
      "outputs": []
    },
    {
      "cell_type": "code",
      "source": [
        "train_ds = train.take(750)\n",
        "test_ds = train.skip(750)\n",
        "val_ds = test_ds.take(93)\n",
        "test_ds = test_ds.skip(93)"
      ],
      "metadata": {
        "id": "pvwwF4T80VJw"
      },
      "execution_count": 4,
      "outputs": []
    },
    {
      "cell_type": "code",
      "source": [
        "plt.figure(figsize=(10,5))\n",
        "for image,label in train_ds.take(1):\n",
        "  for i  in range(9):\n",
        "    plt.subplot(3,3,i+1)\n",
        "    plt.imshow(np.squeeze(image[i].numpy()))\n",
        ""
      ],
      "metadata": {
        "colab": {
          "base_uri": "https://localhost:8080/",
          "height": 449
        },
        "id": "WSFA_hL31pZd",
        "outputId": "e2fb0908-4cfc-4233-fc40-c6798caf38da"
      },
      "execution_count": 5,
      "outputs": [
        {
          "output_type": "display_data",
          "data": {
            "text/plain": [
              "<Figure size 1000x500 with 9 Axes>"
            ],
            "image/png": "[encoded data removed]"
          },
          "metadata": {}
        }
      ]
    },
    {
      "cell_type": "code",
      "source": [
        "class Tensorflow_Image_Classifier(tf.keras.Model):\n",
        "  def __init__(self):\n",
        "    super().__init__()\n",
        "\n",
        "    self.conv1 = Conv2D(16,kernel_size=(3,3),padding='same',activation='relu',input_shape=(28,28,1))\n",
        "    self.flatten = Flatten()\n",
        "    self.dense1  = Dense(32,activation='relu')\n",
        "    self.dense2  = Dense(16,activation='relu')\n",
        "    self.dense3  = Dense(10, activation='softmax')\n",
        "\n",
        "  def call(self,inputs):\n",
        "    conv1 = self.conv1(inputs)\n",
        "    flatten = self.flatten(conv1)\n",
        "    dense1 = self.dense1(flatten)\n",
        "    dense2 = self.dense2(dense1)\n",
        "    return self.dense3(dense2)"
      ],
      "metadata": {
        "id": "VLDMTS3k5Zmk"
      },
      "execution_count": 11,
      "outputs": []
    },
    {
      "cell_type": "code",
      "source": [
        "model = Tensorflow_Image_Classifier()"
      ],
      "metadata": {
        "id": "gL8kVfFS5ZkE"
      },
      "execution_count": 12,
      "outputs": []
    },
    {
      "cell_type": "code",
      "source": [
        "optimizer = tf.keras.optimizers.Adam(learning_rate=1e-3)\n",
        "loss_object = tf.keras.losses.SparseCategoricalCrossentropy()"
      ],
      "metadata": {
        "id": "d9Mz7GEz8Jap"
      },
      "execution_count": 13,
      "outputs": []
    },
    {
      "cell_type": "code",
      "source": [
        "@tf.function\n",
        "def training_model(image,y_true):\n",
        "  with tf.GradientTape() as tape:\n",
        "    y_pred = model(image)\n",
        "    loss = loss_object(y_true=y_true,y_pred=y_pred)\n",
        "\n",
        "  grad = tape.gradient(loss,model.trainable_variables)\n",
        "  optimizer.apply_gradients(zip(grad,model.trainable_variables))\n",
        "  return y_pred, loss"
      ],
      "metadata": {
        "id": "RLp_80di5Zho"
      },
      "execution_count": 14,
      "outputs": []
    },
    {
      "cell_type": "code",
      "source": [
        "losses=[]\n",
        "per_epoch_loss=[]\n",
        "for i in range(40):\n",
        "  print(f'Epoch= {i+1}/40')\n",
        "  for image,y_true in train_ds:\n",
        "    y_true = y_true.numpy().reshape(-1,1)\n",
        "    y_pred, loss = training_model(image,y_true)\n",
        "    losses.append(loss)\n",
        "  per_epoch_loss.append(np.mean(losses))\n",
        "  print(f'Epoch= {i+1} , Loss={np.mean(losses)}')"
      ],
      "metadata": {
        "colab": {
          "base_uri": "https://localhost:8080/"
        },
        "id": "lSz6ueih5ZfF",
        "outputId": "558b94b2-675e-4f29-dbbc-5878201358a9"
      },
      "execution_count": 15,
      "outputs": [
        {
          "output_type": "stream",
          "name": "stdout",
          "text": [
            "Epoch= 1/40\n",
            "Epoch= 1 , Loss=0.3386983871459961\n",
            "Epoch= 2/40\n",
            "Epoch= 2 , Loss=0.21968106925487518\n",
            "Epoch= 3/40\n",
            "Epoch= 3 , Loss=0.1679069846868515\n",
            "Epoch= 4/40\n",
            "Epoch= 4 , Loss=0.13729509711265564\n",
            "Epoch= 5/40\n",
            "Epoch= 5 , Loss=0.11653921008110046\n",
            "Epoch= 6/40\n",
            "Epoch= 6 , Loss=0.10105249285697937\n",
            "Epoch= 7/40\n",
            "Epoch= 7 , Loss=0.08922529965639114\n",
            "Epoch= 8/40\n",
            "Epoch= 8 , Loss=0.07999864220619202\n",
            "Epoch= 9/40\n",
            "Epoch= 9 , Loss=0.07275990396738052\n",
            "Epoch= 10/40\n",
            "Epoch= 10 , Loss=0.06677122414112091\n",
            "Epoch= 11/40\n",
            "Epoch= 11 , Loss=0.061602819710969925\n",
            "Epoch= 12/40\n",
            "Epoch= 12 , Loss=0.05706479400396347\n",
            "Epoch= 13/40\n",
            "Epoch= 13 , Loss=0.053122419863939285\n",
            "Epoch= 14/40\n",
            "Epoch= 14 , Loss=0.0496944934129715\n",
            "Epoch= 15/40\n",
            "Epoch= 15 , Loss=0.046788472682237625\n",
            "Epoch= 16/40\n",
            "Epoch= 16 , Loss=0.04428490251302719\n",
            "Epoch= 17/40\n",
            "Epoch= 17 , Loss=0.042006056755781174\n",
            "Epoch= 18/40\n",
            "Epoch= 18 , Loss=0.03990664333105087\n",
            "Epoch= 19/40\n",
            "Epoch= 19 , Loss=0.038141995668411255\n",
            "Epoch= 20/40\n",
            "Epoch= 20 , Loss=0.0365295484662056\n",
            "Epoch= 21/40\n",
            "Epoch= 21 , Loss=0.034917861223220825\n",
            "Epoch= 22/40\n",
            "Epoch= 22 , Loss=0.03350255265831947\n",
            "Epoch= 23/40\n",
            "Epoch= 23 , Loss=0.03229686990380287\n",
            "Epoch= 24/40\n",
            "Epoch= 24 , Loss=0.03105357475578785\n",
            "Epoch= 25/40\n",
            "Epoch= 25 , Loss=0.02997022494673729\n",
            "Epoch= 26/40\n",
            "Epoch= 26 , Loss=0.028990857303142548\n",
            "Epoch= 27/40\n",
            "Epoch= 27 , Loss=0.027996841818094254\n",
            "Epoch= 28/40\n",
            "Epoch= 28 , Loss=0.027077754959464073\n",
            "Epoch= 29/40\n",
            "Epoch= 29 , Loss=0.026245083659887314\n",
            "Epoch= 30/40\n",
            "Epoch= 30 , Loss=0.025415711104869843\n",
            "Epoch= 31/40\n",
            "Epoch= 31 , Loss=0.024748235940933228\n",
            "Epoch= 32/40\n",
            "Epoch= 32 , Loss=0.0240583848208189\n",
            "Epoch= 33/40\n",
            "Epoch= 33 , Loss=0.02347077801823616\n",
            "Epoch= 34/40\n",
            "Epoch= 34 , Loss=0.022802937775850296\n",
            "Epoch= 35/40\n",
            "Epoch= 35 , Loss=0.022198151797056198\n",
            "Epoch= 36/40\n",
            "Epoch= 36 , Loss=0.021755561232566833\n",
            "Epoch= 37/40\n",
            "Epoch= 37 , Loss=0.021226603537797928\n",
            "Epoch= 38/40\n",
            "Epoch= 38 , Loss=0.020693445578217506\n",
            "Epoch= 39/40\n",
            "Epoch= 39 , Loss=0.020173292607069016\n",
            "Epoch= 40/40\n",
            "Epoch= 40 , Loss=0.019756855443120003\n"
          ]
        }
      ]
    },
    {
      "cell_type": "code",
      "source": [
        "plt.plot(range(40),per_epoch_loss)"
      ],
      "metadata": {
        "colab": {
          "base_uri": "https://localhost:8080/",
          "height": 447
        },
        "id": "xDGp77kiE1fE",
        "outputId": "79b9ac6e-f1eb-466a-8c23-9f862f6d182a"
      },
      "execution_count": 16,
      "outputs": [
        {
          "output_type": "execute_result",
          "data": {
            "text/plain": [
              "[<matplotlib.lines.Line2D at 0x7a9669d4d900>]"
            ]
          },
          "metadata": {},
          "execution_count": 16
        },
        {
          "output_type": "display_data",
          "data": {
            "text/plain": [
              "<Figure size 640x480 with 1 Axes>"
            ],
            "image/png": "[encoded data removed]"
          },
          "metadata": {}
        }
      ]
    },
    {
      "cell_type": "markdown",
      "source": [
        "# **Pytorch Image Classifier**"
      ],
      "metadata": {
        "id": "mVtoCgbnLw3S"
      }
    },
    {
      "cell_type": "code",
      "source": [
        "from torch import nn\n",
        "from torch.nn import Conv2d,Linear,Flatten\n",
        "from torch.optim import Adam\n",
        "from torch.utils.data import DataLoader\n",
        "from torchvision import datasets\n",
        "from torchvision.transforms import ToTensor\n"
      ],
      "metadata": {
        "id": "7HJr4A_wE1c7"
      },
      "execution_count": 47,
      "outputs": []
    },
    {
      "cell_type": "code",
      "source": [
        "train = datasets.MNIST(root='data',train=True,download=True,transform=ToTensor())"
      ],
      "metadata": {
        "id": "fBV_BzJWE1IL"
      },
      "execution_count": 48,
      "outputs": []
    },
    {
      "cell_type": "code",
      "source": [
        "train_ds = DataLoader(train,64)"
      ],
      "metadata": {
        "id": "fO32aFbAH7YR"
      },
      "execution_count": 49,
      "outputs": []
    },
    {
      "cell_type": "code",
      "source": [
        "plt.figure(figsize=(10,5))\n",
        "for data in train_ds:\n",
        "  for i  in range(9):\n",
        "    image,label = data\n",
        "    plt.subplot(3,3,i+1)\n",
        "    plt.imshow(np.squeeze(image[i].numpy()))\n",
        "  break"
      ],
      "metadata": {
        "colab": {
          "base_uri": "https://localhost:8080/",
          "height": 449
        },
        "id": "q_AP86IfM8rB",
        "outputId": "805a2c60-ee7a-40ce-b294-b8e1219bf1ee"
      },
      "execution_count": 59,
      "outputs": [
        {
          "output_type": "display_data",
          "data": {
            "text/plain": [
              "<Figure size 1000x500 with 9 Axes>"
            ],
            "image/png": "[encoded data removed]"
          },
          "metadata": {}
        }
      ]
    },
    {
      "cell_type": "code",
      "source": [
        "class Torch_Image_Classifier(nn.Module):\n",
        "  def __init__(self):\n",
        "    super().__init__()\n",
        "\n",
        "    self.conv1 = nn.Conv2d(1,16,(3,3))\n",
        "    self.relu = nn.ReLU()\n",
        "    self.flatten = Flatten()\n",
        "    self.linear1  = Linear(16*(28-2)*(28-2),32)\n",
        "    self.linear2  = Linear(32,16)\n",
        "    self.linear3  = Linear(16,10)\n",
        "\n",
        "  def forward(self,inputs):\n",
        "    conv1 = self.conv1(inputs)\n",
        "    conv1 = self.relu(conv1)\n",
        "    flatten = self.flatten(conv1)\n",
        "    linear1 = self.linear1(flatten)\n",
        "    linear1 = self.relu(linear1)\n",
        "    linear2 = self.linear2(linear1)\n",
        "    linear2 = self.relu(linear2)\n",
        "    return self.linear3(linear2)"
      ],
      "metadata": {
        "id": "7IGY4zO1E1Fn"
      },
      "execution_count": 50,
      "outputs": []
    },
    {
      "cell_type": "code",
      "source": [
        "torch_model = Torch_Image_Classifier().to('cuda')"
      ],
      "metadata": {
        "id": "ccHQpH0QHu8B"
      },
      "execution_count": 51,
      "outputs": []
    },
    {
      "cell_type": "code",
      "source": [
        "optimizer = Adam(lr=1e-3,params=torch_model.parameters())\n",
        "loss_object = nn.CrossEntropyLoss()"
      ],
      "metadata": {
        "id": "_ibVE2Y7Hu5P"
      },
      "execution_count": 52,
      "outputs": []
    },
    {
      "cell_type": "code",
      "source": [
        "per_epoch_loss=[]\n",
        "for i in range(10):\n",
        "  print(f'Epoch= {i+1}/10')\n",
        "  for data in train_ds:\n",
        "    image,y_true = data\n",
        "    image = image.to('cuda')\n",
        "    y_true =y_true.to(\"cuda\")\n",
        "\n",
        "    y_pred = torch_model(image)\n",
        "\n",
        "    loss = loss_object(y_pred,y_true)\n",
        "\n",
        "    optimizer.zero_grad()\n",
        "    loss.backward()\n",
        "    optimizer.step()\n",
        "  print(f'Epoch= {i+1} , loss= {loss.item()}')\n",
        "  per_epoch_loss.append(loss.item())"
      ],
      "metadata": {
        "colab": {
          "base_uri": "https://localhost:8080/"
        },
        "id": "6Bvw41vaHu2y",
        "outputId": "418e4c3a-2ff7-4782-d2fe-8d3e0246897f"
      },
      "execution_count": 54,
      "outputs": [
        {
          "output_type": "stream",
          "name": "stdout",
          "text": [
            "Epoch= 1/10\n",
            "Epoch= 1 , loss= 0.10755209624767303\n",
            "Epoch= 2/10\n",
            "Epoch= 2 , loss= 0.039781346917152405\n",
            "Epoch= 3/10\n",
            "Epoch= 3 , loss= 0.01348559744656086\n",
            "Epoch= 4/10\n",
            "Epoch= 4 , loss= 0.009216876700520515\n",
            "Epoch= 5/10\n",
            "Epoch= 5 , loss= 0.003445067908614874\n",
            "Epoch= 6/10\n",
            "Epoch= 6 , loss= 0.0016460876213386655\n",
            "Epoch= 7/10\n",
            "Epoch= 7 , loss= 0.002761883893981576\n",
            "Epoch= 8/10\n",
            "Epoch= 8 , loss= 0.0011515830410644412\n",
            "Epoch= 9/10\n",
            "Epoch= 9 , loss= 0.0004779806768056005\n",
            "Epoch= 10/10\n",
            "Epoch= 10 , loss= 0.0004916887264698744\n"
          ]
        }
      ]
    },
    {
      "cell_type": "code",
      "source": [
        "plt.plot(range(10),per_epoch_loss)"
      ],
      "metadata": {
        "colab": {
          "base_uri": "https://localhost:8080/",
          "height": 447
        },
        "id": "ZhXcMxwKNCab",
        "outputId": "26a58ee6-cc9a-4811-a9cd-baaeb2ff1833"
      },
      "execution_count": 61,
      "outputs": [
        {
          "output_type": "execute_result",
          "data": {
            "text/plain": [
              "[<matplotlib.lines.Line2D at 0x7a96485236a0>]"
            ]
          },
          "metadata": {},
          "execution_count": 61
        },
        {
          "output_type": "display_data",
          "data": {
            "text/plain": [
              "<Figure size 640x480 with 1 Axes>"
            ],
            "image/png": "[encoded data removed]"
          },
          "metadata": {}
        }
      ]
    }
  ]
}